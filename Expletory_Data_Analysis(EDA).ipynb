{
  "nbformat": 4,
  "nbformat_minor": 0,
  "metadata": {
    "colab": {
      "provenance": [],
      "authorship_tag": "ABX9TyNEKeQPZgt/y03gWw2Wmq4m",
      "include_colab_link": true
    },
    "kernelspec": {
      "name": "python3",
      "display_name": "Python 3"
    },
    "language_info": {
      "name": "python"
    }
  },
  "cells": [
    {
      "cell_type": "markdown",
      "metadata": {
        "id": "view-in-github",
        "colab_type": "text"
      },
      "source": [
        "<a href=\"https://colab.research.google.com/github/WarunaDissanayake1234/Expletory-Data-Analysis-EDA-/blob/main/Expletory_Data_Analysis(EDA).ipynb\" target=\"_parent\"><img src=\"https://colab.research.google.com/assets/colab-badge.svg\" alt=\"Open In Colab\"/></a>"
      ]
    },
    {
      "cell_type": "markdown",
      "source": [
        "Importing dependancies\n"
      ],
      "metadata": {
        "id": "Vd3FHNbvwcVr"
      }
    },
    {
      "cell_type": "markdown",
      "source": [
        "Explotory Data Analysis(EDA)\n",
        "\n",
        "\n",
        "1.Understanding the dataset\n",
        "\n",
        "2.checking the datatype of each columns\n",
        "\n",
        "3.Categorical and Neumarical columns\n",
        "\n",
        "4.Checking for missing values\n",
        "\n",
        "5.Descriptive Summary of the dataset\n",
        "\n",
        "6.Groupby for classification problem"
      ],
      "metadata": {
        "id": "RS53m2QgxpFp"
      }
    },
    {
      "cell_type": "code",
      "execution_count": 2,
      "metadata": {
        "id": "vOqsYKJzwKIS"
      },
      "outputs": [],
      "source": [
        "import pandas as pd\n",
        "import numpy as np\n",
        "import matplotlib.pyplot as plt\n",
        "import seaborn as sns\n",
        "from sklearn.preprocessing import LabelEncoder"
      ]
    },
    {
      "cell_type": "markdown",
      "source": [
        "Data Collection and Preprocessing"
      ],
      "metadata": {
        "id": "lQOBMmk3w2JZ"
      }
    },
    {
      "cell_type": "code",
      "source": [
        "# Loading the female dibetes dataset\n",
        "\n",
        "diabetes_data = pd.read_csv('/content/diabetes.csv')"
      ],
      "metadata": {
        "id": "-3E0npNjw1o5"
      },
      "execution_count": 3,
      "outputs": []
    },
    {
      "cell_type": "code",
      "source": [],
      "metadata": {
        "id": "ImKwfLlGxb4V"
      },
      "execution_count": null,
      "outputs": []
    }
  ]
}